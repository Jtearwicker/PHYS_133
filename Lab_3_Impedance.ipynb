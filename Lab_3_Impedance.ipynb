{
 "cells": [
  {
   "cell_type": "code",
   "execution_count": null,
   "metadata": {},
   "outputs": [],
   "source": [
    "import numpy as np\n",
    "import matplotlib.pyplot as plt\n",
    "plt.style.use(\"dark_background\")"
   ]
  },
  {
   "cell_type": "markdown",
   "metadata": {},
   "source": [
    "## Preliminary measurements\n",
    "#### Aluminum box #2"
   ]
  },
  {
   "cell_type": "raw",
   "metadata": {},
   "source": [
    "R_L = np.array([500,1000,1500,2000,2500,3000]) #load resistance in ohms\n",
    "V = np.array([3.3,4.78,5.62,6.17,6.55,6.82]) #output voltage in volts\n",
    "I = V / R_L\n",
    "\n",
    "m,b = np.polyfit(I, V, 1) #fit a straight line to I vs V graph\n",
    "R_0 = m\n",
    "V_0 = b\n",
    "print(\"Internal resistance R_0 =\",R_0)\n",
    "print(\"Internal voltage V_0=\",V_0)\n",
    "\n",
    "plt.scatter(I,V)\n",
    "plt.xlabel(\"Current (I)\")\n",
    "plt.ylabel(\"Voltage (V)\")\n",
    "x = np.linspace(0.002,0.007,100)\n",
    "y = R_0*x + V_0\n",
    "plt.plot(x,y,c=\"red\")"
   ]
  },
  {
   "cell_type": "markdown",
   "metadata": {},
   "source": [
    "## 6.8: Linear Elements"
   ]
  },
  {
   "cell_type": "markdown",
   "metadata": {},
   "source": [
    "Lab notes:\n"
   ]
  },
  {
   "cell_type": "raw",
   "metadata": {},
   "source": [
    "#black box B\n",
    "R_L = np.array([57,56,56,56,59,70,130,220,300,500,170,120,60,\n",
    "                260,56,90,100,240,360,400]) #load resistance (ohms)\n",
    "f = np.array([11.2,50.35,102.8,200.0,500.5,1014,3007,5040,7060,10620,\n",
    "              4030,2543,711,6270,359,1630,1943,5600,8500,9530]) #frequency (Hz)\n",
    "\n",
    "A_1 = np.array([6.4,6.4,6.4,6.46,6.52,6.8,8.16,8.4,8.78,8.72,8.2,7.72,\n",
    "                6.72,8.78,6.48,7.12,7.4,8.52,8.92,8.96]) #peak to peak ch. 1 (V)\n",
    "A_2 = np.array([6.38,6.38,6.32,6.32,6.36,6.7,7.60,8.38,8.52,9.28,8.08,7.64,\n",
    "                6.40,8.32,6.32,7.12,7.38,8.38,8.7,8.72]) #peak to peak ch.2 (V)\n",
    "phi_deg = np.array([179,175,176,170,156,144,115,108,102,104,110,120,\n",
    "                    149,102,162,131,127,105,100,99]) #phase angle (measured in degrees)\n",
    "\n",
    "phi = np.radians(phi_deg)\n",
    "omega = f * 2*np.pi\n",
    "V_1 = A_1/2 \n",
    "V_2 = A_2/2\n",
    "Z = abs((R_L*V_1)/V_2)\n",
    "i=1j\n",
    "Z_c = Z*np.cos(phi) + i*Z*np.sin(phi)\n",
    "Y = 1/Z\n",
    "print(\"Magnitude of Impedance =\",Z)\n",
    "print(\"Real component of Impedance =\",Z_c.real)\n",
    "print(\"Imaginary component of Impedance =\",Z_c.imag)\n",
    "\n",
    "if len(R_L) == len(f) == len(A_1) == len(A_2) == len(phi_deg):\n",
    "    print(\"Measurement Number\",len(R_L))\n",
    "else:\n",
    "    print(\"ERROR!!!\")\n",
    "\n",
    "plt.plot(omega**2,Z**2,'o',label=\"Data\")\n",
    "plt.xlabel(\"Omega^2\")\n",
    "plt.ylabel(\"Impedance^2\")\n",
    "plt.grid()\n",
    "A,B = np.polyfit(omega**2,Z**2,1)\n",
    "X = np.linspace(0,max(omega**2),100)\n",
    "plt.plot(X,A*X + B,c='r',label=\"Best Fit Line\")\n",
    "plt.legend()\n",
    "print(\"Y Intercept = \",A)\n",
    "print(\"Slope = \",B)"
   ]
  },
  {
   "cell_type": "raw",
   "metadata": {},
   "source": [
    "#black box C\n",
    "R_L = np.array([100,100,100,100,100,140,300,300,600,900,3400,1500,1100,1100,4000,1000,\n",
    "                2000,3000,3000,10000,6000,6000,2300,10000,10000,9000,770,900]) #load resistance (ohms)\n",
    "f = np.array([10.7,50.10,100.8,300.1,603.1,1081,3001,5030,7092,9063,20240,25500,27740,\n",
    "              30050,15230,10480,12700,21370,14140,17800,16100,19120,22320,18370,17140,16800,35600,32700]) #frequency (Hz)\n",
    "\n",
    "A_1 = np.array([6.8,6.80,6.80,6.84,7.04,6.64,7.20,9.52,8.72,8.80,8.48,8.96,9.44,8.84,8.24,9.44,\n",
    "                8.4,8.2,8.16,6.8,7.76,7.36,8.64,6.38,6.82,7.0,9.08,9.08]) #peak to peak ch. 1 (V)\n",
    "A_2 = np.array([6.00,5.96,5.96,5.96,5.88,6.8,8.80,6.80,8.24,8.56,7.76,8.88,8.48,9.20,7.92,8.04,\n",
    "                8.88,8.52,8.64,6.32,7.36,7.68,8.48,7.44,6.6,7.04,9.08,9.08]) #peak to peak ch.2 (V)\n",
    "phi_deg = np.array([180,175,176,167,156,147,120,111,105,107,-112,-98,-99,-97,115,110,106,-107,\n",
    "                    109,-169,125,-127,-104,-146,154,141,-97,-96]) #phase angle (measured in degrees)\n",
    "\n",
    "phi = np.radians(phi_deg)\n",
    "omega = f * 2*np.pi\n",
    "V_1 = A_1/2 \n",
    "V_2 = A_2/2\n",
    "Z = abs((R_L*V_1)/V_2)\n",
    "i=1j\n",
    "Z_c = Z*np.cos(phi) + i*Z*np.sin(phi)\n",
    "Y = 1/Z\n",
    "#print(\"Magnitude of Impedance =\",Z)\n",
    "#print(\"Real component of Impedance =\",Z_c.real)\n",
    "#print(\"Imaginary component of Impedance =\",Z_c.imag)\n",
    "\n",
    "if len(R_L) == len(f) == len(A_1) == len(A_2) == len(phi_deg):\n",
    "    print(\"Number of Measurements =\",len(R_L))\n",
    "else:\n",
    "    print(\"ERROR!!!\")\n",
    "\n",
    "plt.plot(omega,Z,'o')\n",
    "plt.xlabel(\"Omega\")\n",
    "plt.ylabel(\"Impedance\")\n",
    "A,B = np.polyfit(omega,Z,1)\n",
    "X = np.linspace(0,max(omega),100)\n",
    "plt.grid()\n",
    "#plt.plot(X,A*X + B,c='r')\n",
    "#print(\"Phi =\",phi)"
   ]
  },
  {
   "cell_type": "raw",
   "metadata": {},
   "source": [
    "plt.plot((omega[omega<10000])**2, (1/Z[omega<10000])**2,'o',c='steelblue',label=\"Low Frequency Data\")\n",
    "plt.xlabel(\"Omega^2\")\n",
    "plt.ylabel(\"Admittance^2\")\n",
    "a,b = np.polyfit((omega[omega<10000])**2, (1/Z[omega<10000])**2,1)\n",
    "X1 = np.linspace(0,5e7,100)\n",
    "plt.plot(X1,a*X1 + b,c='r',label=\"Best Fit Line\")\n",
    "plt.legend()"
   ]
  },
  {
   "cell_type": "raw",
   "metadata": {},
   "source": [
    "plt.plot((omega[omega>150000])**2,(1/Z[omega>150000])**2,'o',c='steelblue',label=\"High Frequency Data\")\n",
    "plt.xlabel(\"Omega^2\")\n",
    "plt.ylabel(\"|Y|^2\")\n",
    "C,D = np.polyfit((omega[omega>150000])**2,(1/Z[omega>150000])**2,1)\n",
    "print(\"C = \",C,\"D =\",D)\n",
    "X2 = np.linspace(min((omega[omega>150000])**2),max((omega[omega>150000])**2),100)\n",
    "#X2 = np.linspace(2.5e10,5e10,100)\n",
    "plt.plot(X2,C*X2 + D,c='r')\n",
    "plt.legend()"
   ]
  },
  {
   "cell_type": "raw",
   "metadata": {},
   "source": [
    "#black box F\n",
    "R_L = np.array([2200,2200,2200,2200,2200,2200,2000,2000,2100,1800,1600,1400,\n",
    "                1350,1000,770,460,530,630,1150,320]) #load resistance (ohms)\n",
    "f = np.array([11.16,50.45,100.6,502,257,1093,3032,2028,260,5045,7003,9040,\n",
    "              10004,15080,20010,34920,30400,25100,12110,50150]) #frequency (Hz)\n",
    "\n",
    "A_1 = np.array([6.4,6.38,6.40,6.38,6.36,6.34,6.66,6.6,6.52,6.82,7.0,7.2,\n",
    "                7.22,7.60,8.0,8.4,8.24,8.2,7.57,8.6]) #peak to peak ch. 1 (V)\n",
    "A_2 = np.array([6.32,6.36,6.40,6.38,6.40,6.44,6.48,6.22,6.24,6.68,6.88,7.12,\n",
    "                7.38,7.74,7.92,8.36,8.28,8.16,7.48,8.4]) #peak to peak ch.2 (V)\n",
    "phi_deg = np.array([179,178,-179,-179,-179,-173,-161,-166,-179,-150,-142,-137,\n",
    "                    -129,-120,-115,-108,-110,-112,-126,-105]) #phase angle (measured in degrees)\n",
    "\n",
    "phi = np.radians(phi_deg)\n",
    "omega = f * 2*np.pi\n",
    "V_1 = A_1/2 \n",
    "V_2 = A_2/2\n",
    "Z = abs((R_L*V_1)/V_2)\n",
    "i=1j\n",
    "Z_c = Z*np.cos(phi) + i*Z*np.sin(phi)\n",
    "Y = 1/Z\n",
    "print(\"Magnitude of Impedance =\",Z)\n",
    "print(\"Real component of Impedance =\",Z_c.real)\n",
    "print(\"Imaginary component of Impedance =\",Z_c.imag)\n",
    "\n",
    "if len(R_L) == len(f) == len(A_1) == len(A_2) == len(phi_deg):\n",
    "    print(\"Measurement Number\",len(R_L))\n",
    "else:\n",
    "    print(\"ERROR!!!\")\n",
    "\n",
    "plt.plot(omega**2,Y**2,'o')\n",
    "plt.xlabel(\"Omega^2\")\n",
    "plt.ylabel(\"Admittance^2\")\n",
    "A,B = np.polyfit(omega**2,Y**2,1)\n",
    "X3 = np.linspace(0,1e11,100)\n",
    "plt.legend()\n",
    "plt.grid()\n",
    "plt.plot(X3,A*X3 + B,c='r')\n"
   ]
  },
  {
   "cell_type": "markdown",
   "metadata": {},
   "source": [
    "Non-Linear Elements: Box J"
   ]
  },
  {
   "cell_type": "markdown",
   "metadata": {},
   "source": [
    "3-7 lab notes:\n",
    "Box J connected in the same circuit used for linear elements (Fig 27 in lab manual)\n",
    "Signals are not sinusoidal in Y vs t plot\n",
    "X vs Y graph: Channel 1 = x-axis = voltage, Channel 2 = y-axis = current\n",
    "Channel 2 inverted\n",
    "Amplitude set to 0 and the graph reduces to a point, which is centered at (0,0)\n",
    "\n"
   ]
  },
  {
   "cell_type": "code",
   "execution_count": null,
   "metadata": {},
   "outputs": [],
   "source": []
  }
 ],
 "metadata": {
  "kernelspec": {
   "display_name": "Python 3",
   "language": "python",
   "name": "python3"
  },
  "language_info": {
   "codemirror_mode": {
    "name": "ipython",
    "version": 3
   },
   "file_extension": ".py",
   "mimetype": "text/x-python",
   "name": "python",
   "nbconvert_exporter": "python",
   "pygments_lexer": "ipython3",
   "version": "3.8.5"
  }
 },
 "nbformat": 4,
 "nbformat_minor": 4
}
