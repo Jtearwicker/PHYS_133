{
 "cells": [
  {
   "cell_type": "code",
   "execution_count": 1,
   "metadata": {},
   "outputs": [],
   "source": [
    "import numpy as np\n",
    "import matplotlib.pyplot as plt\n",
    "from astropy import units as u\n",
    "from astropy.coordinates import Angle"
   ]
  },
  {
   "cell_type": "markdown",
   "metadata": {},
   "source": [
    "#### Session 1: 1-19-2022"
   ]
  },
  {
   "cell_type": "markdown",
   "metadata": {},
   "source": [
    "## Helium"
   ]
  },
  {
   "cell_type": "code",
   "execution_count": 2,
   "metadata": {},
   "outputs": [],
   "source": [
    "#position angle measurements\n",
    "He_legend = ['undeviated', 'violet', 'blue', 'dark green', 'light green', 'orange', 'red1 secondary',\n",
    "             'red1', 'red2']\n",
    "He_left = [Angle('0d13m0s'),Angle('352d33m0s'), Angle('352d7m0s'), Angle('351d47m0s'),Angle('351d35m0s'), \n",
    "           Angle('350d7m0s'), Angle('349d12m0s'), Angle('348d41m0s'), Angle('348d0m0s')]\n",
    "He_right = [Angle('0d13m0s'), Angle('7d17m0s'), Angle('8d13m0s'), Angle('8d30m0s'),\n",
    "            Angle('8d43m0s'), Angle('10d14m0s'), Angle('11d7m0s'), Angle('11d34m0s'), Angle('12d16m0s')]\n"
   ]
  },
  {
   "cell_type": "markdown",
   "metadata": {},
   "source": [
    "## Hydrogen"
   ]
  },
  {
   "cell_type": "code",
   "execution_count": 3,
   "metadata": {},
   "outputs": [],
   "source": [
    "H_legend = \n",
    "H_left = [Angle('0d7m0s'), Angle('352d42m0s'), Angle('351d46m0s'), Angle('348d52m0s')]\n",
    "H_right = [Angle('0d6m0s'),Angle('7d26m0s'),Angle('8d20m0s'),Angle('11d18m0s')]"
   ]
  },
  {
   "cell_type": "markdown",
   "metadata": {},
   "source": [
    "## Helium Neon laser"
   ]
  },
  {
   "cell_type": "code",
   "execution_count": 4,
   "metadata": {},
   "outputs": [
    {
     "name": "stdout",
     "output_type": "stream",
     "text": [
      "Helium Neon Laser from the left:  [<Angle 0. deg>, <Angle 349.25 deg>, <Angle 338. deg>]\n",
      "Helium Neon Laser from the right:  [<Angle 0. deg>, <Angle 10.81666667 deg>, <Angle 22.05 deg>]\n"
     ]
    }
   ],
   "source": [
    "He_N_left = [Angle('0d 0m 0s'), Angle('349d 15m 0s'), Angle('338d 0m 0s')]\n",
    "He_N_right = [Angle('0d 0m 0s'), Angle('10d 49m 0s'), Angle('22d 3m 0s')]\n",
    "print('Helium Neon Laser from the left: ',He_N_left)\n",
    "print('Helium Neon Laser from the right: ',He_N_right)"
   ]
  },
  {
   "cell_type": "code",
   "execution_count": 5,
   "metadata": {},
   "outputs": [
    {
     "name": "stdout",
     "output_type": "stream",
     "text": [
      "352.1166666666667\n"
     ]
    }
   ],
   "source": [
    "print(He_left[2].value)"
   ]
  },
  {
   "cell_type": "code",
   "execution_count": 6,
   "metadata": {},
   "outputs": [
    {
     "name": "stdout",
     "output_type": "stream",
     "text": [
      "From the LEFT,  undeviated  =  360.0\n",
      "From the RIGHT,  undeviated  =  0.0\n",
      "Difference for  undeviated  =  360.0\n",
      " \n",
      "From the LEFT,  violet  =  7.666666666666629\n",
      "From the RIGHT,  violet  =  7.066666666666666\n",
      "Difference for  violet  =  0.5999999999999623\n",
      " \n",
      "From the LEFT,  blue  =  8.099999999999966\n",
      "From the RIGHT,  blue  =  8.0\n",
      "Difference for  blue  =  0.0999999999999659\n",
      " \n",
      "From the LEFT,  dark green  =  8.43333333333328\n",
      "From the RIGHT,  dark green  =  8.283333333333333\n",
      "Difference for  dark green  =  0.14999999999994706\n",
      " \n",
      "From the LEFT,  light green  =  8.633333333333326\n",
      "From the RIGHT,  light green  =  8.5\n",
      "Difference for  light green  =  0.13333333333332575\n",
      " \n",
      "From the LEFT,  orange  =  10.099999999999966\n",
      "From the RIGHT,  orange  =  10.016666666666666\n",
      "Difference for  orange  =  0.08333333333330017\n",
      " \n",
      "From the LEFT,  red1 secondary  =  11.016666666666652\n",
      "From the RIGHT,  red1 secondary  =  10.9\n",
      "Difference for  red1 secondary  =  0.11666666666665115\n",
      " \n",
      "From the LEFT,  red1  =  11.533333333333303\n",
      "From the RIGHT,  red1  =  11.35\n",
      "Difference for  red1  =  0.18333333333330337\n",
      " \n",
      "From the LEFT,  red2  =  12.21666666666664\n",
      "From the RIGHT,  red2  =  12.05\n",
      "Difference for  red2  =  0.16666666666663943\n",
      " \n"
     ]
    }
   ],
   "source": [
    "if len(He_left) == len(He_right):\n",
    "    He_left_deg = np.zeros(len(He_legend))\n",
    "    He_right_deg = np.zeros(len(He_legend))\n",
    "    He_diff = np.zeros(len(He_legend))\n",
    "    for i in range(0, len(He_legend)):\n",
    "        He_left_deg[i] = abs(360.0 + He_left[0].value - He_left[i].value)\n",
    "        He_right_deg[i] = abs(He_right[0].value - He_right[i].value)\n",
    "        He_diff[i] = abs(He_left_deg[i] - He_right_deg[i])\n",
    "        print(\"From the LEFT, \",He_legend[i], ' = ',He_left_deg[i])\n",
    "        print(\"From the RIGHT, \",He_legend[i], ' = ',He_right_deg[i])\n",
    "        print(\"Difference for \", He_legend[i], ' = ',He_diff[i])\n",
    "        print(\" \")\n",
    "else:\n",
    "    (print(\"Length doesn't match\"))"
   ]
  },
  {
   "cell_type": "code",
   "execution_count": 7,
   "metadata": {},
   "outputs": [
    {
     "ename": "NameError",
     "evalue": "name 'H_legend' is not defined",
     "output_type": "error",
     "traceback": [
      "\u001b[1;31m---------------------------------------------------------------------------\u001b[0m",
      "\u001b[1;31mNameError\u001b[0m                                 Traceback (most recent call last)",
      "\u001b[1;32m<ipython-input-7-dd253981a73b>\u001b[0m in \u001b[0;36m<module>\u001b[1;34m\u001b[0m\n\u001b[0;32m      1\u001b[0m \u001b[1;32mif\u001b[0m \u001b[0mlen\u001b[0m\u001b[1;33m(\u001b[0m\u001b[0mH_left\u001b[0m\u001b[1;33m)\u001b[0m \u001b[1;33m==\u001b[0m \u001b[0mlen\u001b[0m\u001b[1;33m(\u001b[0m\u001b[0mH_right\u001b[0m\u001b[1;33m)\u001b[0m\u001b[1;33m:\u001b[0m\u001b[1;33m\u001b[0m\u001b[1;33m\u001b[0m\u001b[0m\n\u001b[1;32m----> 2\u001b[1;33m     \u001b[0mHe_left_deg\u001b[0m \u001b[1;33m=\u001b[0m \u001b[0mnp\u001b[0m\u001b[1;33m.\u001b[0m\u001b[0mzeros\u001b[0m\u001b[1;33m(\u001b[0m\u001b[0mlen\u001b[0m\u001b[1;33m(\u001b[0m\u001b[0mH_legend\u001b[0m\u001b[1;33m)\u001b[0m\u001b[1;33m)\u001b[0m\u001b[1;33m\u001b[0m\u001b[1;33m\u001b[0m\u001b[0m\n\u001b[0m\u001b[0;32m      3\u001b[0m     \u001b[0mH_right_deg\u001b[0m \u001b[1;33m=\u001b[0m \u001b[0mnp\u001b[0m\u001b[1;33m.\u001b[0m\u001b[0mzeros\u001b[0m\u001b[1;33m(\u001b[0m\u001b[0mlen\u001b[0m\u001b[1;33m(\u001b[0m\u001b[0mH_legend\u001b[0m\u001b[1;33m)\u001b[0m\u001b[1;33m)\u001b[0m\u001b[1;33m\u001b[0m\u001b[1;33m\u001b[0m\u001b[0m\n\u001b[0;32m      4\u001b[0m     \u001b[0mH_diff\u001b[0m \u001b[1;33m=\u001b[0m \u001b[0mnp\u001b[0m\u001b[1;33m.\u001b[0m\u001b[0mzeros\u001b[0m\u001b[1;33m(\u001b[0m\u001b[0mlen\u001b[0m\u001b[1;33m(\u001b[0m\u001b[0mH_legend\u001b[0m\u001b[1;33m)\u001b[0m\u001b[1;33m)\u001b[0m\u001b[1;33m\u001b[0m\u001b[1;33m\u001b[0m\u001b[0m\n\u001b[0;32m      5\u001b[0m     \u001b[1;32mfor\u001b[0m \u001b[0mi\u001b[0m \u001b[1;32min\u001b[0m \u001b[0mrange\u001b[0m\u001b[1;33m(\u001b[0m\u001b[1;36m0\u001b[0m\u001b[1;33m,\u001b[0m \u001b[0mlen\u001b[0m\u001b[1;33m(\u001b[0m\u001b[0mH_legend\u001b[0m\u001b[1;33m)\u001b[0m\u001b[1;33m)\u001b[0m\u001b[1;33m:\u001b[0m\u001b[1;33m\u001b[0m\u001b[1;33m\u001b[0m\u001b[0m\n",
      "\u001b[1;31mNameError\u001b[0m: name 'H_legend' is not defined"
     ]
    }
   ],
   "source": [
    "if len(H_left) == len(H_right):\n",
    "    H_left_deg = np.zeros(len(H_legend))\n",
    "    H_right_deg = np.zeros(len(H_legend))\n",
    "    H_diff = np.zeros(len(H_legend))\n",
    "    for i in range(0, len(H_legend)):\n",
    "        H_left_deg[i] = abs(360.0 + H_left[0].value - H_left[i].value)\n",
    "        H_right_deg[i] = abs(H_right[0].value - H_right[i].value)\n",
    "        He_diff[i] = abs(H_left_deg[i] - H_right_deg[i])\n",
    "        print(\"From the LEFT, \",H_legend[i], ' = ',H_left_deg[i])\n",
    "        print(\"From the RIGHT, \",H_legend[i], ' = ',H_right_deg[i])\n",
    "        print(\"Difference for \", H_legend[i], ' = ',H_diff[i])\n",
    "        print(\" \")\n",
    "else:\n",
    "    (print(\"Length doesn't match\"))"
   ]
  }
 ],
 "metadata": {
  "kernelspec": {
   "display_name": "Python 3",
   "language": "python",
   "name": "python3"
  },
  "language_info": {
   "codemirror_mode": {
    "name": "ipython",
    "version": 3
   },
   "file_extension": ".py",
   "mimetype": "text/x-python",
   "name": "python",
   "nbconvert_exporter": "python",
   "pygments_lexer": "ipython3",
   "version": "3.8.5"
  }
 },
 "nbformat": 4,
 "nbformat_minor": 4
}
