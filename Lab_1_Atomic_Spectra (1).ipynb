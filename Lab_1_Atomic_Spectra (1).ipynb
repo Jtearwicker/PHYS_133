{
 "cells": [
  {
   "cell_type": "code",
   "execution_count": null,
   "metadata": {
    "ExecuteTime": {
     "end_time": "2022-02-16T23:57:19.464496Z",
     "start_time": "2022-02-16T23:57:18.334517Z"
    }
   },
   "outputs": [],
   "source": [
    "import numpy as np\n",
    "import matplotlib.pyplot as plt\n",
    "from astropy import units as u\n",
    "from astropy.coordinates import Angle"
   ]
  },
  {
   "cell_type": "markdown",
   "metadata": {},
   "source": [
    "#### Session 1: 1-19-2022"
   ]
  },
  {
   "cell_type": "markdown",
   "metadata": {},
   "source": [
    "## Helium"
   ]
  },
  {
   "cell_type": "code",
   "execution_count": null,
   "metadata": {
    "ExecuteTime": {
     "end_time": "2022-02-16T23:57:19.496411Z",
     "start_time": "2022-02-16T23:57:19.465492Z"
    }
   },
   "outputs": [],
   "source": [
    "#position angle measurements\n",
    "He_legend = [\n",
    "    'undeviated', 'violet', 'blue', 'dark green', 'light green', 'orange',\n",
    "    'red1 secondary', 'red1', 'red2'\n",
    "]\n",
    "He_m_legend = [1, 1, 1, 1, 1, 1, 1, 1, 1]\n",
    "He_lam_legend = [\"na\", 388.8, 447.1, 501.5, 587.5, 667.8, 686.7, 706.5,\n",
    "                 728.1]  #wavelength in nanometers\n",
    "He_left = [\n",
    "    Angle('0d13m0s'),\n",
    "    Angle('352d33m0s'),\n",
    "    Angle('352d7m0s'),\n",
    "    Angle('351d47m0s'),\n",
    "    Angle('351d35m0s'),\n",
    "    Angle('350d7m0s'),\n",
    "    Angle('349d12m0s'),\n",
    "    Angle('348d41m0s'),\n",
    "    Angle('348d0m0s')\n",
    "]\n",
    "He_right = [\n",
    "    Angle('0d13m0s'),\n",
    "    Angle('7d17m0s'),\n",
    "    Angle('8d13m0s'),\n",
    "    Angle('8d30m0s'),\n",
    "    Angle('8d43m0s'),\n",
    "    Angle('10d14m0s'),\n",
    "    Angle('11d7m0s'),\n",
    "    Angle('11d34m0s'),\n",
    "    Angle('12d16m0s')\n",
    "]\n",
    "N = len(He_legend) - 1"
   ]
  },
  {
   "cell_type": "code",
   "execution_count": null,
   "metadata": {
    "ExecuteTime": {
     "end_time": "2022-02-16T23:57:19.512366Z",
     "start_time": "2022-02-16T23:57:19.497406Z"
    }
   },
   "outputs": [],
   "source": [
    "#convert from degrees to radians and define theta as 1/2(alpha1+alpha2)\n",
    "He_left_rad = np.empty(len(He_legend))\n",
    "He_right_rad = np.empty(len(He_legend))\n",
    "theta = np.empty(N)\n",
    "for j in range(1, len(He_legend)):\n",
    "    He_left_rad[j] = np.radians(He_left[j].value)\n",
    "    He_right_rad[j] = np.radians(He_right[j].value)\n",
    "\n",
    "    theta[j - 1] = ((2 * np.pi - He_left_rad[j]) + He_right_rad[j]) / 2\n",
    "    print(theta[j - 1])\n",
    "print(len(theta))"
   ]
  },
  {
   "cell_type": "code",
   "execution_count": null,
   "metadata": {
    "ExecuteTime": {
     "end_time": "2022-02-16T23:57:19.528326Z",
     "start_time": "2022-02-16T23:57:19.513366Z"
    }
   },
   "outputs": [],
   "source": [
    "d = np.empty(N)\n",
    "for i in range(0, N):\n",
    "    d[i] = abs(\n",
    "        (He_m_legend[i + 1] * He_lam_legend[i + 1]) / (np.sin(theta[i])))\n",
    "    print(\"d =\", d[i])\n",
    "\n",
    "d_best = np.sum(d) / N\n",
    "print(\"d_best is \", d_best)"
   ]
  },
  {
   "cell_type": "code",
   "execution_count": null,
   "metadata": {
    "ExecuteTime": {
     "end_time": "2022-02-16T23:57:19.544283Z",
     "start_time": "2022-02-16T23:57:19.529321Z"
    }
   },
   "outputs": [],
   "source": [
    "#stats and error propagation for d\n",
    "sig_sys = np.empty(len(theta))\n",
    "for i in range(0, len(theta)):\n",
    "    sig_sys[i] = abs((2 * np.pi - He_left_rad[i + 1]) -\n",
    "                     He_right_rad[i + 1]) / 2  #(alpha1-alpha2)/2\n",
    "sig_sys_total = np.sum(sig_sys) / N\n",
    "sig_rand = 1 / 60  #smallest measurement on the vernier scale\n",
    "sig_theta = ((sig_sys_total)**2 + sig_rand**2)**(0.5)\n",
    "print(\"Uncertainty in theta =\", sig_theta, \"radians\")"
   ]
  },
  {
   "cell_type": "code",
   "execution_count": null,
   "metadata": {
    "ExecuteTime": {
     "end_time": "2022-02-16T23:57:19.560238Z",
     "start_time": "2022-02-16T23:57:19.545278Z"
    }
   },
   "outputs": [],
   "source": [
    "sig_di = np.empty(N)\n",
    "for i in range(0, N):\n",
    "    sig_di[i] = (\n",
    "        (He_m_legend[i + 1] * He_lam_legend[i + 1] * np.cos(theta[i])) /\n",
    "        (np.sin(theta[i]))**2) * sig_theta\n",
    "    #print(sig_di[i])\n",
    "w_i = 1 / sig_di**2  #weight\n",
    "d_wavg = np.sum(\n",
    "    (1 / sig_di**2) * (d)) / (np.sum(1 / sig_di**2))  #weighted average\n",
    "print(d_wavg)\n",
    "sig_d = (1 / np.sum(1 / sig_di**2))**(0.5)\n",
    "print(sig_d)"
   ]
  },
  {
   "cell_type": "markdown",
   "metadata": {},
   "source": [
    "## Hydrogen"
   ]
  },
  {
   "cell_type": "code",
   "execution_count": null,
   "metadata": {
    "ExecuteTime": {
     "end_time": "2022-02-16T23:57:19.576197Z",
     "start_time": "2022-02-16T23:57:19.562235Z"
    }
   },
   "outputs": [],
   "source": [
    "H_legend = [\"Undeviated\", \"Violet\", \"Teal\", \"Red\"]\n",
    "H_left = [\n",
    "    Angle('0d7m0s'),\n",
    "    Angle('352d42m0s'),\n",
    "    Angle('351d46m0s'),\n",
    "    Angle('348d52m0s')\n",
    "]\n",
    "H_right = [\n",
    "    Angle('0d6m0s'),\n",
    "    Angle('7d26m0s'),\n",
    "    Angle('8d20m0s'),\n",
    "    Angle('11d18m0s')\n",
    "]\n",
    "H_m = [1, 1, 1, 1]\n",
    "N_H = len(H_legend)"
   ]
  },
  {
   "cell_type": "code",
   "execution_count": null,
   "metadata": {
    "ExecuteTime": {
     "end_time": "2022-02-16T23:57:19.592153Z",
     "start_time": "2022-02-16T23:57:19.577193Z"
    }
   },
   "outputs": [],
   "source": [
    "H_left_rad = np.empty(N_H)\n",
    "H_right_rad = np.empty(N_H)\n",
    "theta_H = np.empty(N_H)\n",
    "for i in range(1, N_H):\n",
    "    H_left_rad[i] = np.radians(H_left[i].value)\n",
    "    H_right_rad[i] = np.radians(H_right[i].value)\n",
    "\n",
    "    theta_H[i] = ((2 * np.pi - He_left_rad[i]) + He_right_rad[i]) / 2\n",
    "    print(theta_H[i])\n",
    "print(len(theta_H))"
   ]
  },
  {
   "cell_type": "code",
   "execution_count": null,
   "metadata": {
    "ExecuteTime": {
     "end_time": "2022-02-16T23:57:58.138549Z",
     "start_time": "2022-02-16T23:57:58.117604Z"
    }
   },
   "outputs": [],
   "source": [
    "n1 = [6,5,4]\n",
    "n2 = 2\n",
    "lam_H = np.empty(N_H)\n",
    "R_H = np.empty(N_H)\n",
    "dlam_dd = np.empty(N_H)\n",
    "dlam_dtheta = np.empty(N_H)\n",
    "sig_theta_H = np.empty(N_H)\n",
    "sig_lam = np.empty(N_H)\n",
    "dRH_dlam = np.empty(N_H)\n",
    "sig_RH = np.empty(N_H)\n",
    "\n",
    "for i in range(1, N_H):\n",
    "    lam_H[i] = (d_wavg * np.sin(theta_H[i])) / H_m[i]\n",
    "    R_H[i] = ((1 / lam_H[i]) / ((1 / n2**2) - (1 / n1[i-1]**2)))*1e9\n",
    "    dlam_dd[i] = np.sin(theta_H[i]) / H_m[i]\n",
    "    dlam_dtheta[i] = (d_wavg * np.cos(theta_H[i])) / H_m[i]\n",
    "    sig_theta_H[i] = ((2 * np.pi - H_left_rad[i]) - H_right_rad[i]) / 2\n",
    "\n",
    "    sig_lam[i] = (((dlam_dd[i]) * sig_d)**2 +\n",
    "                    ((dlam_dtheta[i]) * sig_theta_H[i])**2)**(0.5)\n",
    "    dRH_dlam[i] = (-1/(lam_H[i])**2) * (1/n2**2 - 1/n1[i-1]**2)\n",
    "    sig_RH[i] = abs(((dRH_dlam[i]) * sig_lam[i]) * 1e9)\n",
    "\n",
    "    \n",
    "    print(\"Lambda =\", lam_H[i])\n",
    "    print(\"Uncertainty in Lambda =\", sig_lam[i])\n",
    "    print(\"Rydberg constant =\", R_H[i])\n",
    "    print(\"Uncertainty in RH =\", sig_RH[i])\n",
    "    print(\"\")\n",
    "    \n",
    "    RH_wavg = (np.sum((1/sig_RH[1:]**2) * R_H[1:])) / (np.sum(1/sig_RH[1:]**2))\n",
    "    print(\"RH weighted average =\", RH_wavg)"
   ]
  },
  {
   "cell_type": "markdown",
   "metadata": {},
   "source": [
    "## Helium Neon laser"
   ]
  },
  {
   "cell_type": "code",
   "execution_count": null,
   "metadata": {
    "ExecuteTime": {
     "end_time": "2022-02-16T23:57:19.625065Z",
     "start_time": "2022-02-16T23:57:18.326Z"
    }
   },
   "outputs": [],
   "source": [
    "He_N_left = [Angle('0d 0m 0s'), Angle('349d 15m 0s'), Angle('338d 0m 0s')]\n",
    "He_N_right = [Angle('0d 0m 0s'), Angle('10d 49m 0s'), Angle('22d 3m 0s')]\n",
    "print('Helium Neon Laser from the left: ', He_N_left)\n",
    "print('Helium Neon Laser from the right: ', He_N_right)"
   ]
  },
  {
   "cell_type": "code",
   "execution_count": null,
   "metadata": {
    "ExecuteTime": {
     "end_time": "2022-02-16T23:57:19.626062Z",
     "start_time": "2022-02-16T23:57:18.327Z"
    }
   },
   "outputs": [],
   "source": [
    "if len(H_left) == len(H_right):\n",
    "    H_left_deg = np.zeros(len(H_legend))\n",
    "    H_right_deg = np.zeros(len(H_legend))\n",
    "    H_diff = np.zeros(len(H_legend))\n",
    "    for i in range(0, len(H_legend)):\n",
    "        H_left_deg[i] = abs(360.0 + H_left[0].value - H_left[i].value)\n",
    "        H_right_deg[i] = abs(H_right[0].value - H_right[i].value)\n",
    "        He_diff[i] = abs(H_left_deg[i] - H_right_deg[i])\n",
    "        print(\"From the LEFT, \", H_legend[i], ' = ', H_left_deg[i])\n",
    "        print(\"From the RIGHT, \", H_legend[i], ' = ', H_right_deg[i])\n",
    "        print(\"Difference for \", H_legend[i], ' = ', H_diff[i])\n",
    "        print(\" \")\n",
    "else:\n",
    "    (print(\"Lengths don't match\"))"
   ]
  },
  {
   "cell_type": "code",
   "execution_count": null,
   "metadata": {},
   "outputs": [],
   "source": []
  }
 ],
 "metadata": {
  "kernelspec": {
   "display_name": "Python 3",
   "language": "python",
   "name": "python3"
  },
  "language_info": {
   "codemirror_mode": {
    "name": "ipython",
    "version": 3
   },
   "file_extension": ".py",
   "mimetype": "text/x-python",
   "name": "python",
   "nbconvert_exporter": "python",
   "pygments_lexer": "ipython3",
   "version": "3.8.5"
  }
 },
 "nbformat": 4,
 "nbformat_minor": 4
}
