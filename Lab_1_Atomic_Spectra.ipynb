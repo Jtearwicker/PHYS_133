{
 "cells": [
  {
   "cell_type": "code",
   "execution_count": 1,
   "metadata": {},
   "outputs": [],
   "source": [
    "import numpy as np\n",
    "import matplotlib.pyplot as plt\n",
    "from astropy import units as u\n",
    "from astropy.coordinates import Angle"
   ]
  },
  {
   "cell_type": "markdown",
   "metadata": {},
   "source": [
    "#### Session 1: 1-19-2022"
   ]
  },
  {
   "cell_type": "markdown",
   "metadata": {},
   "source": [
    "## Helium"
   ]
  },
  {
   "cell_type": "code",
   "execution_count": 2,
   "metadata": {},
   "outputs": [],
   "source": [
    "#position angle measurements\n",
    "He_legend = ['undeviated', 'violet', 'blue', 'dark green', 'light green', 'orange', 'red1 secondary',\n",
    "             'red1', 'red2']\n",
    "He_m_legend = [1,1,1,1,1,1,2,1,1]\n",
    "He_lam_legend = [] #wavelength in Angstroms\n",
    "He_left = [Angle('0d13m0s'),Angle('352d33m0s'), Angle('352d7m0s'), Angle('351d47m0s'),Angle('351d35m0s'), \n",
    "           Angle('350d7m0s'), Angle('349d12m0s'), Angle('348d41m0s'), Angle('348d0m0s')]\n",
    "He_right = [Angle('0d13m0s'), Angle('7d17m0s'), Angle('8d13m0s'), Angle('8d30m0s'),\n",
    "            Angle('8d43m0s'), Angle('10d14m0s'), Angle('11d7m0s'), Angle('11d34m0s'), Angle('12d16m0s')]\n"
   ]
  },
  {
   "cell_type": "markdown",
   "metadata": {},
   "source": [
    "## Hydrogen"
   ]
  },
  {
   "cell_type": "code",
   "execution_count": 3,
   "metadata": {},
   "outputs": [
    {
     "ename": "SyntaxError",
     "evalue": "invalid syntax (<ipython-input-3-be3cd8976b5e>, line 1)",
     "output_type": "error",
     "traceback": [
      "\u001b[1;36m  File \u001b[1;32m\"<ipython-input-3-be3cd8976b5e>\"\u001b[1;36m, line \u001b[1;32m1\u001b[0m\n\u001b[1;33m    H_legend =\u001b[0m\n\u001b[1;37m               ^\u001b[0m\n\u001b[1;31mSyntaxError\u001b[0m\u001b[1;31m:\u001b[0m invalid syntax\n"
     ]
    }
   ],
   "source": [
    "H_legend = \n",
    "H_left = [Angle('0d7m0s'), Angle('352d42m0s'), Angle('351d46m0s'), Angle('348d52m0s')]\n",
    "H_right = [Angle('0d6m0s'),Angle('7d26m0s'),Angle('8d20m0s'),Angle('11d18m0s')]"
   ]
  },
  {
   "cell_type": "markdown",
   "metadata": {},
   "source": [
    "## Helium Neon laser"
   ]
  },
  {
   "cell_type": "code",
   "execution_count": 4,
   "metadata": {},
   "outputs": [
    {
     "name": "stdout",
     "output_type": "stream",
     "text": [
      "Helium Neon Laser from the left:  [<Angle 0. deg>, <Angle 349.25 deg>, <Angle 338. deg>]\n",
      "Helium Neon Laser from the right:  [<Angle 0. deg>, <Angle 10.81666667 deg>, <Angle 22.05 deg>]\n"
     ]
    }
   ],
   "source": [
    "He_N_left = [Angle('0d 0m 0s'), Angle('349d 15m 0s'), Angle('338d 0m 0s')]\n",
    "He_N_right = [Angle('0d 0m 0s'), Angle('10d 49m 0s'), Angle('22d 3m 0s')]\n",
    "print('Helium Neon Laser from the left: ',He_N_left)\n",
    "print('Helium Neon Laser from the right: ',He_N_right)"
   ]
  },
  {
   "cell_type": "code",
   "execution_count": 5,
   "metadata": {},
   "outputs": [
    {
     "name": "stdout",
     "output_type": "stream",
     "text": [
      "352.1166666666667\n"
     ]
    }
   ],
   "source": [
    "print(He_left[2].value)"
   ]
  },
  {
   "cell_type": "code",
   "execution_count": 9,
   "metadata": {},
   "outputs": [],
   "source": [
    "if len(He_left) == len(He_right):\n",
    "    He_left_deg = np.zeros(len(He_legend))\n",
    "    He_right_deg = np.zeros(len(He_legend))\n",
    "    theta_He = np.zeros(len(He_legend))\n",
    "    delta_He = np.zeros(len(He_legend))\n",
    "    for i in range(0, len(He_legend)):\n",
    "        He_left_deg[i] = abs(360.0 + He_left[0].value - He_left[i].value)\n",
    "        He_right_deg[i] = abs(He_right[0].value - He_right[i].value)\n",
    "        \n",
    "        theta_He[i] = abs(He_left[i].value + He_right[i].value)/2\n",
    "        delta_He[i] = abs(He_left[i].value - He_right[i].value)/2\n",
    "        \n",
    "        #print(\"From the LEFT, \",He_legend[i], ' = ',He_left_deg[i])\n",
    "        #print(\"From the RIGHT, \",He_legend[i], ' = ',He_right_deg[i])\n",
    "        #print(\"Helium theta = \", theta_He[i])\n",
    "        #print(\"Helium delta = \", delta_He[i])\n",
    "        #print(\" \")\n",
    "else:\n",
    "    (print(\"Lengths don't match!\"))"
   ]
  },
  {
   "cell_type": "code",
   "execution_count": 8,
   "metadata": {},
   "outputs": [
    {
     "ename": "NameError",
     "evalue": "name 'He_m_legend' is not defined",
     "output_type": "error",
     "traceback": [
      "\u001b[1;31m---------------------------------------------------------------------------\u001b[0m",
      "\u001b[1;31mNameError\u001b[0m                                 Traceback (most recent call last)",
      "\u001b[1;32m<ipython-input-8-da85b8cae263>\u001b[0m in \u001b[0;36m<module>\u001b[1;34m\u001b[0m\n\u001b[0;32m      1\u001b[0m \u001b[0md_He\u001b[0m \u001b[1;33m=\u001b[0m \u001b[0mnp\u001b[0m\u001b[1;33m.\u001b[0m\u001b[0mzeros\u001b[0m\u001b[1;33m(\u001b[0m\u001b[0mlen\u001b[0m\u001b[1;33m(\u001b[0m\u001b[0mHe_legend\u001b[0m\u001b[1;33m)\u001b[0m\u001b[1;33m)\u001b[0m\u001b[1;33m\u001b[0m\u001b[1;33m\u001b[0m\u001b[0m\n\u001b[0;32m      2\u001b[0m \u001b[1;32mfor\u001b[0m \u001b[0mi\u001b[0m \u001b[1;32min\u001b[0m \u001b[0mrange\u001b[0m\u001b[1;33m(\u001b[0m\u001b[1;36m0\u001b[0m\u001b[1;33m,\u001b[0m \u001b[0mlen\u001b[0m\u001b[1;33m(\u001b[0m\u001b[0mHe_legend\u001b[0m\u001b[1;33m)\u001b[0m\u001b[1;33m)\u001b[0m\u001b[1;33m:\u001b[0m\u001b[1;33m\u001b[0m\u001b[1;33m\u001b[0m\u001b[0m\n\u001b[1;32m----> 3\u001b[1;33m     \u001b[0md_He\u001b[0m\u001b[1;33m[\u001b[0m\u001b[0mi\u001b[0m\u001b[1;33m]\u001b[0m \u001b[1;33m=\u001b[0m \u001b[1;33m(\u001b[0m\u001b[0mHe_m_legend\u001b[0m\u001b[1;33m[\u001b[0m\u001b[0mi\u001b[0m\u001b[1;33m]\u001b[0m\u001b[1;33m*\u001b[0m\u001b[0mHe_lam_legend\u001b[0m\u001b[1;33m[\u001b[0m\u001b[0mi\u001b[0m\u001b[1;33m]\u001b[0m\u001b[1;33m)\u001b[0m\u001b[1;33m/\u001b[0m\u001b[1;33m(\u001b[0m\u001b[1;33m(\u001b[0m\u001b[1;33m(\u001b[0m\u001b[1;36m1\u001b[0m\u001b[1;33m+\u001b[0m\u001b[1;33m(\u001b[0m\u001b[0mnp\u001b[0m\u001b[1;33m.\u001b[0m\u001b[0msin\u001b[0m\u001b[1;33m(\u001b[0m\u001b[0mdelta_He\u001b[0m\u001b[1;33m)\u001b[0m\u001b[1;33m/\u001b[0m\u001b[1;33m(\u001b[0m\u001b[0mnp\u001b[0m\u001b[1;33m.\u001b[0m\u001b[0mcos\u001b[0m\u001b[1;33m(\u001b[0m\u001b[0mdelta_He\u001b[0m\u001b[1;33m)\u001b[0m\u001b[1;33m-\u001b[0m\u001b[0mnp\u001b[0m\u001b[1;33m.\u001b[0m\u001b[0mcos\u001b[0m\u001b[1;33m(\u001b[0m\u001b[0mtheta_He\u001b[0m\u001b[1;33m)\u001b[0m\u001b[1;33m)\u001b[0m\u001b[1;33m)\u001b[0m\u001b[1;33m**\u001b[0m\u001b[1;36m2\u001b[0m\u001b[1;33m)\u001b[0m\u001b[1;33m**\u001b[0m\u001b[1;33m(\u001b[0m\u001b[1;33m-\u001b[0m\u001b[1;36m1\u001b[0m\u001b[1;33m/\u001b[0m\u001b[1;36m2\u001b[0m\u001b[1;33m)\u001b[0m\u001b[1;33m)\u001b[0m\u001b[1;33m*\u001b[0m\u001b[0mnp\u001b[0m\u001b[1;33m.\u001b[0m\u001b[0msin\u001b[0m\u001b[1;33m(\u001b[0m\u001b[0mtheta_He\u001b[0m\u001b[1;33m)\u001b[0m\u001b[1;33m)\u001b[0m \u001b[1;31m# =m*lambda/d\u001b[0m\u001b[1;33m\u001b[0m\u001b[1;33m\u001b[0m\u001b[0m\n\u001b[0m",
      "\u001b[1;31mNameError\u001b[0m: name 'He_m_legend' is not defined"
     ]
    }
   ],
   "source": [
    "# 5.6.1 Determination of d for helium\n",
    "d_He = np.zeros(len(He_legend))\n",
    "for i in range(0, len(He_legend)):\n",
    "    d_He[i] = (He_m_legend[i]*He_lam_legend[i])/(((1+(np.sin(delta_He)/(np.cos(delta_He)-np.cos(theta_He)))**2)**(-1/2))*np.sin(theta_He)) # =m*lambda/d"
   ]
  },
  {
   "cell_type": "code",
   "execution_count": null,
   "metadata": {},
   "outputs": [],
   "source": [
    "if len(H_left) == len(H_right):\n",
    "    H_left_deg = np.zeros(len(H_legend))\n",
    "    H_right_deg = np.zeros(len(H_legend))\n",
    "    H_diff = np.zeros(len(H_legend))\n",
    "    for i in range(0, len(H_legend)):\n",
    "        H_left_deg[i] = abs(360.0 + H_left[0].value - H_left[i].value)\n",
    "        H_right_deg[i] = abs(H_right[0].value - H_right[i].value)\n",
    "        He_diff[i] = abs(H_left_deg[i] - H_right_deg[i])\n",
    "        print(\"From the LEFT, \",H_legend[i], ' = ',H_left_deg[i])\n",
    "        print(\"From the RIGHT, \",H_legend[i], ' = ',H_right_deg[i])\n",
    "        print(\"Difference for \", H_legend[i], ' = ',H_diff[i])\n",
    "        print(\" \")\n",
    "else:\n",
    "    (print(\"Lengths don't match\"))"
   ]
  },
  {
   "cell_type": "code",
   "execution_count": null,
   "metadata": {},
   "outputs": [],
   "source": []
  }
 ],
 "metadata": {
  "kernelspec": {
   "display_name": "Python 3",
   "language": "python",
   "name": "python3"
  },
  "language_info": {
   "codemirror_mode": {
    "name": "ipython",
    "version": 3
   },
   "file_extension": ".py",
   "mimetype": "text/x-python",
   "name": "python",
   "nbconvert_exporter": "python",
   "pygments_lexer": "ipython3",
   "version": "3.8.5"
  }
 },
 "nbformat": 4,
 "nbformat_minor": 4
}
