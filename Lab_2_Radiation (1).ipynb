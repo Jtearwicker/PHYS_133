{
 "cells": [
  {
   "cell_type": "code",
   "execution_count": null,
   "metadata": {},
   "outputs": [],
   "source": [
    "import numpy as np\n",
    "import matplotlib.pyplot as plt\n",
    "import scipy\n",
    "from scipy import stats\n",
    "plt.style.use('dark_background')"
   ]
  },
  {
   "cell_type": "code",
   "execution_count": null,
   "metadata": {},
   "outputs": [],
   "source": [
    "#1 second measurements\n",
    "F = [10,6,8,6,9,13,11,8,5,12,10,8,8,8,5,8,6,14,9,7,6,12,11,10,11,10,7,9,9,19,5,12,11,9,8,8,13,15,15,\n",
    "     8,4,6,6,15,7,5,8,16,7,15,9,8,8,14,9,16,10,9,10,7,8,15,4,11,12,10,10,8,8,13,10,10,12,13,9,4,14,17,\n",
    "     10,13,9,13,7,11,10,10,11,6,6,9,5,13,10,5,10,10,13,11,9,6]\n",
    "x = np.zeros(len(F))\n",
    "for i in range(0, len(F)):\n",
    "    x[i]= x[i-1]+1\n",
    "plt.plot(x, F)\n",
    "plt.xlabel('Count #')\n",
    "plt.ylabel('# of counts')"
   ]
  },
  {
   "cell_type": "code",
   "execution_count": null,
   "metadata": {},
   "outputs": [],
   "source": [
    "#plt.hist(F, bins = 16)"
   ]
  },
  {
   "cell_type": "code",
   "execution_count": null,
   "metadata": {},
   "outputs": [],
   "source": [
    "F_mean = np.mean(F)\n",
    "print(\"F_mean = \",F_mean)\n",
    "lam = F_mean"
   ]
  },
  {
   "cell_type": "code",
   "execution_count": null,
   "metadata": {},
   "outputs": [],
   "source": [
    "m = np.array([i for i in range(0,20)])\n",
    "p_m = np.exp(-lam) * ((lam**m) / scipy.special.factorial(m))"
   ]
  },
  {
   "cell_type": "code",
   "execution_count": null,
   "metadata": {},
   "outputs": [],
   "source": [
    "#Poisson distribution\n",
    "P = np.zeros(len(F))\n",
    "for i in range(1, 20):\n",
    "    P[i] = np.exp(-lam) * ((lam**i) / np.math.factorial(i))\n",
    "plt.plot(x, P*100, linewidth=5, c= 'red')\n",
    "plt.xlabel(\"Count #\")\n",
    "plt.ylabel(\"Probability\")\n",
    "plt.xlim([0,21])\n",
    "chi_sq = stats.chisquare(F, P)\n",
    "print(\"Chi squared =\",chi_sq[0])\n",
    "\n",
    "#data\n",
    "plt.hist(F, bins = 16)\n",
    "#plt.savefig('Poisson distribution vs data')"
   ]
  },
  {
   "cell_type": "code",
   "execution_count": null,
   "metadata": {},
   "outputs": [],
   "source": [
    "#7.4.4\n",
    "V_t = 480 #mV\n",
    "V_p = 960 #mV\n",
    "Voltage = 860 #V\n",
    "tau = 500 #microseconds\n",
    "\n",
    "#Number of counts / 5 seconds\n",
    "\n",
    "#Source a (#15)\n",
    "n_a = [1210, 1224, 1150]\n",
    "n_a_avg = np.mean(n_a)\n",
    "\n",
    "#Sources a and b together\n",
    "n_ab = [2112, 2070, 2128]\n",
    "n_ab_avg = np.mean(n_ab)\n",
    "\n",
    "#Source b (#16)\n",
    "n_b = [1202, 1246, 1169]\n",
    "n_b_avg = np.mean(n_b)"
   ]
  },
  {
   "cell_type": "markdown",
   "metadata": {},
   "source": [
    "## 2-9: 7.5 Absorbtion of gamma rays by lead"
   ]
  },
  {
   "cell_type": "code",
   "execution_count": null,
   "metadata": {},
   "outputs": [],
   "source": [
    "#measurement notes:\n",
    "#voltage = 840V\n",
    "#cardboard cap on for all following measurements, but off for previous measurements\n",
    "#distance from counter to stand = 50mm"
   ]
  },
  {
   "cell_type": "code",
   "execution_count": null,
   "metadata": {},
   "outputs": [],
   "source": [
    "#50 minute background count\n",
    "background = 1178\n",
    "\n",
    "b = 10000 #big size (mm^2)\n",
    "s = 5625 #small size (mm^2)\n",
    "rho = 0.01136 #density of lead (g/mm^2)\n",
    "\n",
    "#absorber thickness: rho*x = mass/area\n",
    "thickness_small = np.array([111,58,114,113,118,58,116,114]) / s   #[mass]/area\n",
    "thickness_big = np.array([96,98,200,95,199,90,89,190,775,202]) / b   #[mass]/area\n",
    "thickness_combined = np.concatenate((thickness_small, thickness_big))\n",
    "thickness_total = (np.sum(thickness_combined)) / rho\n",
    "mass_combined = np.concatenate(((thickness_combined[:8])*s, ((thickness_combined[8:])*b)))\n",
    "print(\"Masses of lead plates in order (bottom to top):\",mass_combined)\n",
    "print(\"Total absorber thickness =\",thickness_total,\"mm\")"
   ]
  },
  {
   "cell_type": "code",
   "execution_count": null,
   "metadata": {},
   "outputs": [],
   "source": [
    "#Measurements(m): (count, time(s))\n",
    "#Thickness(t)\n",
    "m1 = [1502, 38m42s]\n",
    "t1 = thickness_combined[:]\n",
    "m2 = [1500, 30m0s]\n",
    "#t2 = thickness_combined[:] #minus top 3 from small"
   ]
  },
  {
   "cell_type": "code",
   "execution_count": null,
   "metadata": {},
   "outputs": [],
   "source": []
  }
 ],
 "metadata": {
  "kernelspec": {
   "display_name": "Python 3",
   "language": "python",
   "name": "python3"
  },
  "language_info": {
   "codemirror_mode": {
    "name": "ipython",
    "version": 3
   },
   "file_extension": ".py",
   "mimetype": "text/x-python",
   "name": "python",
   "nbconvert_exporter": "python",
   "pygments_lexer": "ipython3",
   "version": "3.8.5"
  }
 },
 "nbformat": 4,
 "nbformat_minor": 4
}
