{
 "cells": [
  {
   "cell_type": "code",
   "execution_count": null,
   "metadata": {},
   "outputs": [],
   "source": [
    "import numpy as np\n",
    "import matplotlib.pyplot as plt\n",
    "from scipy import stats\n",
    "plt.style.use(\"dark_background\")"
   ]
  },
  {
   "cell_type": "markdown",
   "metadata": {},
   "source": [
    "Preliminary measurements: Aluminum box #2"
   ]
  },
  {
   "cell_type": "code",
   "execution_count": null,
   "metadata": {
    "scrolled": true
   },
   "outputs": [],
   "source": [
    "R_L = np.array([500,1000,1500,2000,2500,3000]) #load resistance in ohms\n",
    "V = np.array([3.3,4.78,5.62,6.17,6.55,6.82]) #output voltage in volts\n",
    "I = V / R_L\n",
    "\n",
    "m,b = np.polyfit(I, V, 1) #fit a straight line to I vs V graph\n",
    "R_0 = m\n",
    "V_0 = b\n",
    "print(\"Internal resistance R_0 =\",R_0)\n",
    "print(\"Internal voltage V_0=\",V_0)\n",
    "\n",
    "plt.scatter(V,I,c=\"steelblue\",label=\"Preliminary Measurements\")\n",
    "plt.ylabel(\"Current (I)\")\n",
    "plt.xlabel(\"Voltage (V)\")\n",
    "x = np.linspace(0.002,0.007,100)\n",
    "y = R_0*x + V_0\n",
    "plt.plot(y,x,c=\"r\",label=\"Best Fit Line\")\n",
    "plt.legend()\n",
    "#plt.savefig(\"Preliminary Measurements\")\n",
    "print(\"I =\",I)"
   ]
  },
  {
   "cell_type": "code",
   "execution_count": null,
   "metadata": {},
   "outputs": [],
   "source": [
    "#Preliminary Measurements Stats and Error\n",
    "I_comp = (V-V_0)/R_0 #Value of I from the best fit line\n",
    "sig_I = np.sqrt((np.sum((I-I_comp)**2)) / (len(I)-1))\n",
    "chi_sq_prelim = stats.chisquare(I, I_comp)\n",
    "print(\"Standard Deviation of Current =\",sig_I)\n",
    "print(\"Chi squared =\",chi_sq_prelim[0])\n",
    "\n",
    "plt.scatter(V, I, c=\"steelblue\", label=\"Preliminary Measurements\")\n",
    "plt.ylabel(\"Current (I)\")\n",
    "plt.xlabel(\"Voltage (V)\")\n",
    "plt.errorbar(V, I, yerr=sig_I, fmt='o', c='steelblue', label=\"Error\")\n",
    "plt.scatter(V, I_comp, c=\"r\", s=100, label=\"Best Fit Line\")\n",
    "plt.grid()\n",
    "plt.legend()"
   ]
  },
  {
   "cell_type": "markdown",
   "metadata": {},
   "source": [
    "## 6.8: Linear Elements"
   ]
  },
  {
   "cell_type": "markdown",
   "metadata": {},
   "source": [
    "# Box B"
   ]
  },
  {
   "cell_type": "code",
   "execution_count": null,
   "metadata": {
    "scrolled": false
   },
   "outputs": [],
   "source": [
    "#black box B\n",
    "R_L_B = np.array([57,56,56,56,59,70,130,220,300,500,170,120,60,\n",
    "                260,56,90,100,240,360,400]) #load resistance (ohms)\n",
    "f_B = np.array([11.2,50.35,102.8,200.0,500.5,1014,3007,5040,7060,10620,\n",
    "              4030,2543,711,6270,359,1630,1943,5600,8500,9530]) #frequency (Hz)\n",
    "\n",
    "A_1_B = np.array([6.4,6.4,6.4,6.46,6.52,6.8,8.16,8.4,8.78,8.72,8.2,7.72,\n",
    "                6.72,8.78,6.48,7.12,7.4,8.52,8.92,8.96]) #peak to peak ch. 1 (V)\n",
    "A_2_B = np.array([6.38,6.38,6.32,6.32,6.36,6.7,7.60,8.38,8.52,9.28,8.08,7.64,\n",
    "                6.40,8.32,6.32,7.12,7.38,8.38,8.7,8.72]) #peak to peak ch.2 (V)\n",
    "phi_deg_B = np.array([179,175,176,170,156,144,115,108,102,104,110,120,\n",
    "                    149,102,162,131,127,105,100,99]) #phase angle (measured in degrees)\n",
    "\n",
    "phi_B = np.radians(phi_deg_B)\n",
    "omega_B = f_B * 2*np.pi\n",
    "V_1_B = A_1_B/2 \n",
    "V_2_B = A_2_B/2\n",
    "Z_B = abs((R_L_B*V_1_B)/V_2_B)\n",
    "i=1j\n",
    "Z_c_B = Z_B*np.cos(phi_B) + i*Z_B*np.sin(phi_B)\n",
    "Y_B = 1/Z_B\n",
    "print(\"Magnitude of Impedance =\",Z_B)\n",
    "print(\"Real component of Impedance =\",Z_c_B.real)\n",
    "print(\"Imaginary component of Impedance =\",Z_c_B.imag)\n",
    "\n",
    "if len(R_L_B) == len(f_B) == len(A_1_B) == len(A_2_B) == len(phi_deg_B):\n",
    "    print(\"Measurement Number\",len(R_L_B))\n",
    "else:\n",
    "    print(\"ERROR!!!\")\n",
    "\n",
    "plt.scatter(omega_B**2,Z_B**2, c=\"steelblue\",label=\"Box B Data\")\n",
    "plt.xlabel(\"Omega^2\")\n",
    "plt.ylabel(\"|Z|^2\")\n",
    "m_B,b_B = np.polyfit(omega_B**2,Z_B**2,1)\n",
    "X_B = np.linspace(0,max(omega_B**2),100)\n",
    "plt.plot(X_B, m_B * X_B + b_B ,c='r',label=\"Best Fit Line\")\n",
    "plt.legend()\n",
    "print(\"Y Intercept = \",m_B)\n",
    "print(\"Slope = \",b_B)\n",
    "#plt.savefig(\"Box B\")"
   ]
  },
  {
   "cell_type": "code",
   "execution_count": null,
   "metadata": {},
   "outputs": [],
   "source": [
    "#omega vs. Z graph\n",
    "plt.scatter(omega_B, Z_B, c=\"steelblue\", label=\"Box B Data\")\n",
    "plt.xlabel(\"Omega\")\n",
    "plt.ylabel(\"|Z|\")\n",
    "plt.legend()"
   ]
  },
  {
   "cell_type": "code",
   "execution_count": null,
   "metadata": {},
   "outputs": [],
   "source": [
    "#omega vs. phase graph\n",
    "plt.scatter(omega_B, np.tan(phi_B), c=\"steelblue\", label=\"Box B Data\")\n",
    "plt.xlabel(\"Omega\")\n",
    "plt.ylabel(\"Phase Angle\")\n",
    "plt.legend()"
   ]
  },
  {
   "cell_type": "code",
   "execution_count": null,
   "metadata": {},
   "outputs": [],
   "source": [
    "#box B stats\n",
    "Z_B_comp = m_B * omega_B**2 + b_B #values of best fit line computed at values of omega^2, \n",
    "#essentially the values of xbar to be used in standard deviation and chi sqaured test\n",
    "\n",
    "sig_Z_B_squared = np.sqrt((np.sum((Z_B**2 - Z_B_comp)**2)) / (len(Z_B_comp)-1))\n",
    "chi_sq_B = np.sum(((Z_B**2 - Z_B_comp)**2) / Z_B_comp)\n",
    "\n",
    "plt.scatter(omega_B**2,Z_B**2, c=\"steelblue\",label=\"Box B Data\")\n",
    "plt.scatter(omega_B**2, Z_B_comp, s=100, c='r',label=\"Best Fit Line\")\n",
    "plt.errorbar(omega_B**2, Z_B**2, yerr=sig_Z_B_squared,c=\"steelblue\",fmt='o', label=\"Error\")\n",
    "print(\"Standard Deviation of Impedance^2 =\",sig_Z_B_squared)\n",
    "print(\"Standard Deviation of Impedance =\",np.sqrt(sig_Z_B_squared))\n",
    "print(\"Chi squared =\", chi_sq_B)\n",
    "plt.xlabel(\"Omega^2\")\n",
    "plt.ylabel(\"|Z|^2\")\n",
    "plt.legend()\n",
    "plt.grid()"
   ]
  },
  {
   "cell_type": "code",
   "execution_count": null,
   "metadata": {},
   "outputs": [],
   "source": [
    "#omega vs phase angle\n",
    "plt.plot(omega_B, phi_B, 'o', c=\"steelblue\", label=\"Box B\")\n",
    "plt.xlabel(\"Omega\")\n",
    "plt.ylabel(\"Phase Angle\")\n",
    "plt.legend()"
   ]
  },
  {
   "cell_type": "markdown",
   "metadata": {},
   "source": [
    "# Box C"
   ]
  },
  {
   "cell_type": "code",
   "execution_count": null,
   "metadata": {
    "scrolled": true
   },
   "outputs": [],
   "source": [
    "#black box C\n",
    "R_L_C = np.array([100,100,100,100,100,140,300,300,600,900,3400,1500,1100,1100,4000,1000,\n",
    "                2000,3000,3000,10000,6000,6000,2300,10000,10000,9000,770,900]) #load resistance (ohms)\n",
    "f_C = np.array([10.7,50.10,100.8,300.1,603.1,1081,3001,5030,7092,9063,20240,25500,27740,\n",
    "              30050,15230,10480,12700,21370,14140,17800,16100,19120,22320,18370,17140,\n",
    "                16800,35600,32700]) #frequency (Hz)\n",
    "\n",
    "A_1_C = np.array([6.8,6.80,6.80,6.84,7.04,6.64,7.20,9.52,8.72,8.80,8.48,8.96,9.44,8.84,8.24,9.44,\n",
    "                8.4,8.2,8.16,6.8,7.76,7.36,8.64,6.38,6.82,7.0,9.08,9.08]) #peak to peak ch. 1 (V)\n",
    "A_2_C = np.array([6.00,5.96,5.96,5.96,5.88,6.8,8.80,6.80,8.24,8.56,7.76,8.88,8.48,9.20,7.92,8.04,\n",
    "                8.88,8.52,8.64,6.32,7.36,7.68,8.48,7.44,6.6,7.04,9.08,9.08]) #peak to peak ch.2 (V)\n",
    "phi_deg_C = np.array([180,175,176,167,156,147,120,111,105,107,-112,-98,-99,-97,115,110,106,-107,\n",
    "                    109,-169,125,-127,-104,-146,154,141,-97,-96]) #phase angle (measured in degrees)\n",
    "\n",
    "phi_C = np.radians(phi_deg_C)\n",
    "omega_C = f_C * 2*np.pi\n",
    "V_1_C = A_1_C/2 \n",
    "V_2_C = A_2_C/2\n",
    "Z_C = abs((R_L_C*V_1_C)/V_2_C)\n",
    "i=1j\n",
    "Z_c_C = Z_C*np.cos(phi_C) + i*Z_C*np.sin(phi_C)\n",
    "Y_C = 1/Z_C\n",
    "#print(\"Magnitude of Impedance =\",Z)\n",
    "#print(\"Real component of Impedance =\",Z_c.real)\n",
    "#print(\"Imaginary component of Impedance =\",Z_c.imag)\n",
    "\n",
    "if len(R_L_C) == len(f_C) == len(A_1_C) == len(A_2_C) == len(phi_deg_C):\n",
    "    print(\"Number of Measurements =\",len(R_L_C))\n",
    "else:\n",
    "    print(\"ERROR!!!\")\n",
    "\n",
    "plt.plot(omega_C,Z_C,'o',c=\"steelblue\",label=\"Box C Data\")\n",
    "plt.xlabel(\"Omega\")\n",
    "plt.ylabel(\"|Z|\")\n",
    "A,B = np.polyfit(omega_C,Z_C,1)\n",
    "X = np.linspace(0,max(omega_C),100)\n",
    "plt.grid()\n",
    "plt.legend()\n",
    "#plt.plot(X,A*X + B,c='r')\n",
    "#print(\"Phi =\",phi)"
   ]
  },
  {
   "cell_type": "code",
   "execution_count": null,
   "metadata": {
    "scrolled": true
   },
   "outputs": [],
   "source": [
    "plt.plot((omega_C[omega_C<10000])**2, (1/Z_C[omega_C<10000])**2,'o',\n",
    "         c='steelblue',label=\"Low Frequency Data\")\n",
    "plt.xlabel(\"Omega^2\")\n",
    "plt.ylabel(\"|Y|^2\")\n",
    "a,b = np.polyfit((omega_C[omega_C<10000])**2, (1/Z_C[omega_C<10000])**2,1)\n",
    "X1 = np.linspace(0,5e7,100)\n",
    "plt.plot(X1,a*X1 + b,c='r',label=\"Best Fit Line\")\n",
    "plt.legend()"
   ]
  },
  {
   "cell_type": "code",
   "execution_count": null,
   "metadata": {},
   "outputs": [],
   "source": [
    "#Box C low frequency stats\n",
    "Y_C = 1/Z_C\n",
    "Y_C_squared_comp = a*((omega_C[omega_C<10000])**2) + b\n",
    "sig_Y_C_squared = np.sqrt(np.sum(((Y_C[omega_C<10000])**2 - Y_C_squared_comp)**2) /\n",
    "                          len(omega_C[omega_C<10000]))\n",
    "chi_sq_C_low = np.sum((((Y_C[omega_C<10000])**2 - Y_C_squared_comp)**2) / Y_C_squared_comp)\n",
    "\n",
    "plt.scatter(((omega_C[omega_C<10000])**2),Y_C_squared_comp, s=100, c='r',label=\"Best Fit Line\")\n",
    "plt.scatter((omega_C[omega_C<10000])**2, (Y_C[omega_C<10000])**2,\n",
    "         c='steelblue',label=\"Low Frequency Data\")\n",
    "plt.xlabel(\"Omega^2\")\n",
    "plt.ylabel(\"|Y|^2\")\n",
    "print(\"Standard Deviation of |Y|^2 =\",sig_Y_C_squared)\n",
    "print(\"Chi squared =\",chi_sq_C_low)\n",
    "plt.errorbar((omega_C[omega_C<10000])**2, (Y_C[omega_C<10000])**2, \n",
    "             yerr=sig_Y_C_squared, fmt='o', c=\"steelblue\", label=\"Error\")\n",
    "plt.legend()\n",
    "plt.grid()"
   ]
  },
  {
   "cell_type": "code",
   "execution_count": null,
   "metadata": {
    "scrolled": false
   },
   "outputs": [],
   "source": [
    "plt.plot((omega_C[omega_C>150000])**2,(1/Z_C[omega_C>150000])**2,'o',\n",
    "         c='steelblue',label=\"High Frequency Data\")\n",
    "plt.xlabel(\"Omega^2\")\n",
    "plt.ylabel(\"|Y|^2\")\n",
    "C,D = np.polyfit((omega_C[omega_C>150000])**2,(1/Z_C[omega_C>150000])**2,1)\n",
    "print(\"C = \",C,\"D =\",D)\n",
    "X2 = np.linspace(min((omega_C[omega_C>150000])**2),max((omega_C[omega_C>150000])**2),100)\n",
    "#X2 = np.linspace(2.5e10,5e10,100)\n",
    "plt.plot(X2,C*X2 + D,c='r',label=\"Best Fit Line\")\n",
    "plt.legend()"
   ]
  },
  {
   "cell_type": "code",
   "execution_count": null,
   "metadata": {},
   "outputs": [],
   "source": [
    "#Box C high frequency stats\n",
    "high_omega_C = omega_C[omega_C>150000]\n",
    "high_Y_C = 1/Z_C[omega_C>150000]\n",
    "high_Y_C_squared_comp = C * high_omega_C**2 + D\n",
    "sig_high_Y_C = (np.sqrt(np.sum((high_Y_C**2 - high_Y_C_squared_comp)**2) / (len(high_Y_C)-1)))\n",
    "chi_sq_C_high = np.sum(((high_Y_C**2 - high_Y_C_squared_comp)**2) / high_Y_C_squared_comp)\n",
    "                \n",
    "plt.scatter(high_omega_C**2, high_Y_C**2, c=\"steelblue\", label=\"High Frequency Data\")                \n",
    "plt.scatter(high_omega_C**2, high_Y_C_squared_comp, s=100, c='r', label=\"Best Fit Line\")\n",
    "plt.xlabel(\"Omega^2\")\n",
    "plt.ylabel(\"|Y|^2\")\n",
    "print(\"Standard deviation of high frequency Y =\",sig_high_Y_C)\n",
    "print(\"Chi squared =\",chi_sq_C_high)\n",
    "plt.errorbar(high_omega_C**2, high_Y_C**2, yerr=sig_high_Y_C, fmt='o',\n",
    "             c=\"steelblue\", label=\"Error of |Y|^2\")\n",
    "plt.legend()"
   ]
  },
  {
   "cell_type": "markdown",
   "metadata": {},
   "source": [
    "# Box F"
   ]
  },
  {
   "cell_type": "code",
   "execution_count": null,
   "metadata": {},
   "outputs": [],
   "source": [
    "#black box F\n",
    "R_L_F = np.array([2200,2200,2200,2200,2200,2200,2000,2000,2100,1800,1600,1400,\n",
    "                1350,1000,770,460,530,630,1150,320]) #load resistance (ohms)\n",
    "f_F = np.array([11.16,50.45,100.6,502,257,1093,3032,2028,260,5045,7003,9040,\n",
    "              10004,15080,20010,34920,30400,25100,12110,50150]) #frequency (Hz)\n",
    "\n",
    "A_1_F = np.array([6.4,6.38,6.40,6.38,6.36,6.34,6.66,6.6,6.52,6.82,7.0,7.2,\n",
    "                7.22,7.60,8.0,8.4,8.24,8.2,7.57,8.6]) #peak to peak ch. 1 (V)\n",
    "A_2_F = np.array([6.32,6.36,6.40,6.38,6.40,6.44,6.48,6.22,6.24,6.68,6.88,7.12,\n",
    "                7.38,7.74,7.92,8.36,8.28,8.16,7.48,8.4]) #peak to peak ch.2 (V)\n",
    "phi_deg_F = np.array([179,178,-179,-179,-179,-173,-161,-166,-179,-150,-142,-137,\n",
    "                    -129,-120,-115,-108,-110,-112,-126,-105]) #phase angle (degrees)\n",
    "\n",
    "phi_F = np.radians(phi_deg_F) #convert phi from degrees to radians\n",
    "omega_F = f_F * 2*np.pi\n",
    "V_1_F = A_1_F/2 \n",
    "V_2_F = A_2_F/2\n",
    "Z_F = abs((R_L_F*V_1_F)/V_2_F)\n",
    "i=1j\n",
    "Z_c_F = Z_F*np.cos(phi_F) + i*Z_F*np.sin(phi_F)\n",
    "Y_F = 1/Z_F\n",
    "print(\"Magnitude of Impedance =\",Z_F)\n",
    "print(\"Real component of Impedance =\",Z_c_F.real)\n",
    "print(\"Imaginary component of Impedance =\",Z_c_F.imag)\n",
    "\n",
    "if len(R_L_F) == len(f_F) == len(A_1_F) == len(A_2_F) == len(phi_deg_F):\n",
    "    print(\"Measurement Number\",len(R_L_F))\n",
    "else:\n",
    "    print(\"ERROR!!!\")\n",
    "\n",
    "plt.plot(omega_F**2,Y_F**2,'o',c=\"steelblue\",label=\"Box F Data\")\n",
    "plt.xlabel(\"Omega^2\")\n",
    "plt.ylabel(\"|Y|^2\")\n",
    "A,B = np.polyfit(omega_F**2,Y_F**2,1)\n",
    "X3 = np.linspace(0,1e11,100)\n",
    "plt.plot(X3,A*X3 + B,c='r',label=\"Best Fit Line\")\n",
    "plt.legend()"
   ]
  },
  {
   "cell_type": "code",
   "execution_count": null,
   "metadata": {},
   "outputs": [],
   "source": [
    "plt.plot(omega_F, phi_F, 'o', c=\"steelblue\", label=\"Box F\")\n",
    "plt.xlabel(\"Omega\")\n",
    "plt.ylabel(\"Phase Angle\")\n",
    "plt.legend()"
   ]
  },
  {
   "cell_type": "code",
   "execution_count": null,
   "metadata": {},
   "outputs": [],
   "source": [
    "#Box F stats\n",
    "Y_F_squared_comp = A * omega_F**2 + B\n",
    "sig_Y_F = np.sqrt((np.sum((Y_F**2 - Y_F_squared_comp)**2)) / (len(Y_F_squared_comp)-1))\n",
    "chi_sq_F = np.sum(((Y_F**2 - Y_F_squared_comp)**2) / Y_F_squared_comp)\n",
    "\n",
    "plt.scatter(omega_F**2, Y_F_squared_comp, c='r', s=100, label=\"Best Fit Line\")\n",
    "plt.scatter(omega_F**2, Y_F**2, c=\"steelblue\",label=\"Box F Data\")\n",
    "plt.xlabel(\"Omega^2\")\n",
    "plt.ylabel(\"|Y|^2\")\n",
    "plt.errorbar(omega_F**2, Y_F**2, yerr=sig_Y_F, fmt='o', c=\"steelblue\",label=\"Error in |Y|^2\")\n",
    "print(\"Standard Deviation of |Y|^2 =\",sig_Y_F)\n",
    "print(\"Standard Deviation of |Y| =\",np.sqrt(sig_Y_F))\n",
    "print(\"Chi squared =\",chi_sq_F)\n",
    "plt.legend()"
   ]
  }
 ],
 "metadata": {
  "kernelspec": {
   "display_name": "Python 3",
   "language": "python",
   "name": "python3"
  },
  "language_info": {
   "codemirror_mode": {
    "name": "ipython",
    "version": 3
   },
   "file_extension": ".py",
   "mimetype": "text/x-python",
   "name": "python",
   "nbconvert_exporter": "python",
   "pygments_lexer": "ipython3",
   "version": "3.8.5"
  }
 },
 "nbformat": 4,
 "nbformat_minor": 4
}
